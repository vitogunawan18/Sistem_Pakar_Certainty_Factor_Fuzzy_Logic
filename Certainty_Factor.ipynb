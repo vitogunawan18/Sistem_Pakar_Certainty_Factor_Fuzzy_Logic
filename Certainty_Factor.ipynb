{
  "nbformat": 4,
  "nbformat_minor": 0,
  "metadata": {
    "colab": {
      "provenance": [],
      "authorship_tag": "ABX9TyOo+IvOH5zzSKuAKcfWXNM3",
      "include_colab_link": true
    },
    "kernelspec": {
      "name": "python3",
      "display_name": "Python 3"
    },
    "language_info": {
      "name": "python"
    }
  },
  "cells": [
    {
      "cell_type": "markdown",
      "metadata": {
        "id": "view-in-github",
        "colab_type": "text"
      },
      "source": [
        "<a href=\"https://colab.research.google.com/github/vitogunawan18/Sistem_Pakar_Certainty_Factor_Fuzzy_Logic/blob/main/Certainty_Factor.ipynb\" target=\"_parent\"><img src=\"https://colab.research.google.com/assets/colab-badge.svg\" alt=\"Open In Colab\"/></a>"
      ]
    },
    {
      "cell_type": "markdown",
      "source": [
        "Certainty Factor"
      ],
      "metadata": {
        "id": "m-QZXwq7Rs3P"
      }
    },
    {
      "cell_type": "code",
      "source": [
        "gejala_user = {\n",
        "    \"demam\": 0.2,                # dari 0.7 → 0.2\n",
        "    \"batuk\": 0.3,                # dari 0.5 → 0.3\n",
        "    \"sakit_tenggorokan\": 0.2,    # dari 0.6 → 0.2\n",
        "    \"pilek\": 0.4,\n",
        "    \"nyeri_otot\": 0.3,\n",
        "    \"kelelahan\": 0.5,\n",
        "    \"sakit_kepala\": 0.6,\n",
        "    \"bersin\": 0.4\n",
        "}\n",
        "\n",
        "# Pengetahuan pakar (tetap)\n",
        "pengetahuan = {\n",
        "    \"flu\": {\n",
        "        \"demam\": 0.8,\n",
        "        \"batuk\": 0.7,\n",
        "        \"sakit_tenggorokan\": 0.6,\n",
        "        \"pilek\": 0.7,\n",
        "        \"nyeri_otot\": 0.6,\n",
        "        \"kelelahan\": 0.8,\n",
        "        \"sakit_kepala\": 0.5,\n",
        "        \"bersin\": 0.6\n",
        "    }\n",
        "}\n",
        "\n",
        "# Fungsi menghitung CF\n",
        "def hitung_cf(gejala_user, pengetahuan_pakar):\n",
        "    cf_total = 0\n",
        "    first = True\n",
        "    for gejala, cf_user in gejala_user.items():\n",
        "        if gejala in pengetahuan_pakar:\n",
        "            cf_pakar = pengetahuan_pakar[gejala]\n",
        "            cf = cf_user * cf_pakar\n",
        "            if first:\n",
        "                cf_total = cf\n",
        "                first = False\n",
        "            else:\n",
        "                cf_total = cf_total + cf * (1 - cf_total)\n",
        "    return cf_total\n",
        "\n",
        "# Hitung CF diagnosis flu\n",
        "cf_flu = hitung_cf(gejala_user, pengetahuan[\"flu\"])\n",
        "print(f\"CF diagnosis Flu: {cf_flu:.2f}\")"
      ],
      "metadata": {
        "colab": {
          "base_uri": "https://localhost:8080/"
        },
        "id": "GM0FvbMqRsZA",
        "outputId": "fb4b11a4-d0aa-481b-8230-13a7beb9f8e1"
      },
      "execution_count": 3,
      "outputs": [
        {
          "output_type": "stream",
          "name": "stdout",
          "text": [
            "CF diagnosis Flu: 0.89\n"
          ]
        }
      ]
    },
    {
      "cell_type": "markdown",
      "source": [
        "1.Mengubah Nilai CF Gejala:\n",
        "Pada percobaan ini, dilakukan perubahan nilai Certainty Factor (CF) dari beberapa gejala utama yang berkaitan dengan flu, yaitu:\n",
        "* \"demam\" dari 0.7 menjadi 0.2\n",
        "*\"batuk\" dari 0.5 menjadi 0.3\n",
        "*\"sakit tenggorokan\" dari 0.6 menjadi 0.2\n",
        "\n",
        "\n",
        "Perubahan ini menunjukkan bahwa tingkat keyakinan pengguna terhadap gejala tersebut menjadi lebih rendah, yang berdampak langsung pada hasil akhir diagnosis.\n",
        "\n",
        "2.Menambahkan 5 Gejala Baru:\n",
        "ditambahkan lima gejala baru, yaitu:\n",
        "* pilek (CF: 0.4)\n",
        "* nyeri otot (CF: 0.3)\n",
        "* kelelahan (CF: 0.5)\n",
        "* sakit kepala (CF: 0.6)\n",
        "* bersin (CF: 0.4)\n",
        "\n",
        "3.Setelah nilai CF dari \"demam\" diubah menjadi 0.2, hasil akhir diagnosis menjadi lebih rendah dibandingkan dengan versi sebelumnya. Hal ini disebabkan oleh karakteristik metode Certainty Factor, di mana setiap gejala akan dikalikan dengan bobot dari pakar. Karena \"demam\" memiliki bobot tinggi (0.8), perubahan kecil pada nilai CF dari pengguna akan memberikan pengaruh besar terhadap hasil akhir.\n",
        "\n",
        "Selain itu, nilai dari gejala pertama yang cocok akan menjadi dasar awal   \n",
        "perhitungan. Jika nilai awal ini kecil, maka akumulasi nilai dari gejala berikutnya juga menjadi terbatas, karena proses penjumlahannya menggunakan rumus yang mempertimbangkan sisa dari CF sebelumnya (1 - CF_total).\n",
        "\n",
        "4.Perubahan nilai CF pada gejala utama seperti demam, batuk, dan sakit tenggorokan memberikan dampak signifikan terhadap nilai akhir CF diagnosis. Meskipun ditambahkan gejala baru, jika nilai CF pada gejala utama rendah, maka sistem akan kurang yakin bahwa pengguna menderita flu."
      ],
      "metadata": {
        "id": "V3PpWIlJPTlI"
      }
    }
  ]
}